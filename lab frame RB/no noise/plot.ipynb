{
 "cells": [
  {
   "cell_type": "code",
   "execution_count": 2,
   "metadata": {},
   "outputs": [
    {
     "name": "stdout",
     "output_type": "stream",
     "text": [
      "F_Ciff = 1 - r =  0.9699444262175201\n"
     ]
    },
    {
     "data": {
      "image/png": "[encoded data removed]",
      "text/plain": [
       "<Figure size 432x288 with 1 Axes>"
      ]
     },
     "metadata": {
      "needs_background": "light"
     },
     "output_type": "display_data"
    }
   ],
   "source": [
    "import pickle\n",
    "import matplotlib.pyplot as plt\n",
    "from scipy.optimize import curve_fit\n",
    "import math\n",
    "\n",
    "with open('2q_lab_RB_simu_L.pkl', 'rb') as f:\n",
    "    x = pickle.load(f)\n",
    "f.close()\n",
    "\n",
    "with open('2q_lab_RB_simu_y.pkl', 'rb') as f:\n",
    "    y = pickle.load(f)\n",
    "f.close()\n",
    "\n",
    "# with open('2q_RB_simu_yerr.pkl', 'rb') as f:\n",
    "#     yerr = pickle.load(f)\n",
    "# f.close()\n",
    "\n",
    "# Fitting function\n",
    "###############\n",
    "# SRB\n",
    "\n",
    "# def func(x, A, B, r):\n",
    "#     return A * (1 - 4 / 3 * r) ** x + B\n",
    "\n",
    "# popt, pcov = curve_fit(func, x, y, p0=[1, 0, 0], bounds=(0, 1), maxfev=5000)\n",
    "# # p0 is the guess of the parameters. Guess B ~ 0 (ideally be 0.25) and r ~ 0 (no noise model now so r should be ultra low)\n",
    "# print(\"F_Ciff = 1 - r = \", 1 - popt[2])\n",
    "# print(\"A = \", popt[0])\n",
    "# print(\"B = \", popt[1])\n",
    "\n",
    "###############\n",
    "# SRB with fixed A and B\n",
    "\n",
    "def func(x, r):\n",
    "    return  0.75 * (1 - 4/3*r)**x + 0.25\n",
    "\n",
    "popt, pcov = curve_fit(func, x, y, p0=[0], bounds=(0, 1), maxfev=5000)\n",
    "print(\"F_Ciff = 1 - r = \", 1 - popt[0])\n",
    "\n",
    "###############\n",
    "# SRB with fixed B\n",
    "\n",
    "# def func(x, A, r):\n",
    "#     return  A * (1 - 4/3*r)**x + 0.25\n",
    "\n",
    "# popt, pcov = curve_fit(func, x, y, p0=[1, 0], bounds=(0, 1), maxfev=5000)\n",
    "# print(\"F_Ciff = 1 - r = \", 1 - popt[1])\n",
    "# print(\"A = \", popt[0])\n",
    "\n",
    "###############\n",
    "# SRB with fixed A\n",
    "\n",
    "# def func(x, B, r):\n",
    "#     return  0.75 * (1 - 4/3*r)**x + B\n",
    "\n",
    "# popt, pcov = curve_fit(func, x, y, p0=[0, 0], bounds=(0, 1), maxfev=5000)\n",
    "# print(\"F_Ciff = 1 - r = \", 1 - popt[1])\n",
    "# print(\"B = \", popt[0])\n",
    "\n",
    "###############\n",
    "# two decay parameters with fixed constant term (NUS model)\n",
    "\n",
    "# def func(x, A, p1, B, p2):\n",
    "#     return  A * p1**x + B * p2**x + 0.25\n",
    "\n",
    "# popt, pcov = curve_fit(func, x, y, p0=[1, 1, 0, 1], bounds=((0, 0, 0, 0), (1, 1, 1, 1)), maxfev=5000)\n",
    "# print(\"A = \", popt[0])\n",
    "# print(\"p1 = \", popt[1])\n",
    "# print(\"B = \", popt[2])\n",
    "# print(\"p2 = \", popt[3])\n",
    "\n",
    "###############\n",
    "# nonexponential decay (NSW model)\n",
    "\n",
    "# def func(x, A, r, a, B):\n",
    "#     return  A * 2.718281828459045 ** (-(4/3*r*x)**a) + B\n",
    "\n",
    "# popt, pcov = curve_fit(func, x, y, p0=[1, 0, 1, 0], sigma=yerr, bounds=((0, 0, 0, 0), (1, 1, 1, 1)), maxfev=5000)\n",
    "# print(\"F_Ciff = 1 - r = \", 1 - popt[1])\n",
    "# print(\"A = \", popt[0])\n",
    "# print(\"B = \", popt[3])\n",
    "# print(\"a = \", popt[2])\n",
    "\n",
    "###############\n",
    "# nonexponential decay with fixed constant term (NSW model)\n",
    "\n",
    "# def func(x, A, r, a):\n",
    "#     return  A * 2.718281828459045 ** (-(4/3*r*x)**a) + 0.25\n",
    "\n",
    "# popt, pcov = curve_fit(func, x, y, p0=[1, 0, 1], bounds=((0, 0, 0), (1, 1, 1)), maxfev=5000)\n",
    "# print(\"F_Ciff = 1 - r = \", 1 - popt[1])\n",
    "# print(\"A = \", popt[0])\n",
    "# print(\"a = \", popt[2])\n",
    "\n",
    "###############\n",
    "\n",
    "# plt.errorbar(x, y, yerr=yerr, fmt='o', markersize=4, capsize=3)\n",
    "plt.plot(x, y, 'o', markersize=4)\n",
    "plt.plot(x, func(x, *popt), 'r-')\n",
    "plt.plot(x, func(x, 0.0001), 'b-')\n",
    "plt.ylim(top=1.0)\n",
    "plt.xlabel(\"Number of Cliffords (L)\")\n",
    "plt.ylabel(\"Proj. State Prob.\")\n",
    "# plt.title(\"Two-qubit RB Fitting\")\n",
    "# plt.title(\"Gaussian Noise w/o Crosstalk Err\")\n",
    "plt.title(\"Lab Frame RB w/o noise\")\n",
    "plt.show()"
   ]
  },
  {
   "cell_type": "code",
   "execution_count": 2,
   "metadata": {},
   "outputs": [
    {
     "name": "stdout",
     "output_type": "stream",
     "text": [
      "[0, 1, 2, 3, 4, 5, 6, 7, 8, 9, 10]\n",
      "[0.9999999999999878, 0.902356686160067, 0.7409534149560321, 0.5544699676938837, 0.5279269575591478, 0.4957891639768349, 0.5403737807598202, 0.5052259166966008, 0.4931691253611461, 0.5112549380500658, 0.49246228792576885]\n",
      "[ 0  1  2  3  4  5  6  7  8  9 10]\n",
      "[ 0  1  2  3  4  5  6  7  8  9 10]\n",
      "[ 0  1  2  3  4  5  6  7  8  9 10]\n",
      "[ 0  1  2  3  4  5  6  7  8  9 10]\n",
      "[ 0  1  2  3  4  5  6  7  8  9 10]\n",
      "[ 0  1  2  3  4  5  6  7  8  9 10]\n",
      "[ 0  1  2  3  4  5  6  7  8  9 10]\n",
      "A =  0.007455564311435008\n",
      "[0, 1, 2, 3, 4, 5, 6, 7, 8, 9, 10]\n"
     ]
    },
    {
     "data": {
      "image/png": "[encoded data removed]",
      "text/plain": [
       "<Figure size 432x288 with 1 Axes>"
      ]
     },
     "metadata": {
      "needs_background": "light"
     },
     "output_type": "display_data"
    }
   ],
   "source": [
    "import pickle\n",
    "import matplotlib.pyplot as plt\n",
    "from scipy.optimize import curve_fit\n",
    "import numpy as np\n",
    "\n",
    "with open('x_1q.pkl', 'rb') as f:\n",
    "    x = pickle.load(f)\n",
    "f.close()\n",
    "\n",
    "with open('y_1q.pkl', 'rb') as f:\n",
    "    y = pickle.load(f)\n",
    "f.close()\n",
    "\n",
    "print(x)\n",
    "print(y)\n",
    "# Fitting function\n",
    "def func(x, A):\n",
    "    print(x)\n",
    "    return 1 - A * np.array(x) * np.array(x)\n",
    "\n",
    "# def func(x, A):\n",
    "#     return  * (1 - 4/3*0.053)**x + 0.25\n",
    "\n",
    "popt, pcov = curve_fit(func, x, y, p0=[0], maxfev=5000)\n",
    "print(\"A = \", popt[0])\n",
    "\n",
    "plt.plot(x, y,'bo', markersize=4)\n",
    "plt.plot(x, func(x, *popt), 'r-')\n",
    "plt.ylim(top=1.0)\n",
    "plt.xlabel(\"Noise Multiplier\")\n",
    "plt.ylabel(\"Fidelity\")\n",
    "# plt.title(\"Two-qubit RB Fitting\")\n",
    "plt.title(\"Energy Fluctuation Noise analysis\")\n",
    "plt.show()"
   ]
  },
  {
   "cell_type": "code",
   "execution_count": 10,
   "metadata": {},
   "outputs": [
    {
     "name": "stdout",
     "output_type": "stream",
     "text": [
      "A =  3991.0417036935783\n",
      "T2* =  9.246736511943487\n"
     ]
    },
    {
     "data": {
      "text/plain": [
       "[<matplotlib.lines.Line2D at 0xdc49d0>]"
      ]
     },
     "execution_count": 10,
     "metadata": {},
     "output_type": "execute_result"
    },
    {
     "data": {
      "image/png": "[encoded data removed]",
      "text/plain": [
       "<Figure size 432x288 with 1 Axes>"
      ]
     },
     "metadata": {
      "needs_background": "light"
     },
     "output_type": "display_data"
    }
   ],
   "source": [
    "import matplotlib.pyplot as plt\n",
    "from scipy.optimize import curve_fit\n",
    "import math\n",
    "import numpy as np\n",
    "\n",
    "x = np.array([1.772, 9.975, 17.553, 25.708])\n",
    "y = np.array([3338, 1175, 700, 427])\n",
    "\n",
    "def func(x, A, B):\n",
    "    return  A * 2.718281828459045 ** (-x/B)\n",
    "\n",
    "popt, pcov = curve_fit(func, x, y, p0=[2000, 10], maxfev=100000)\n",
    "print(\"A = \", popt[0])\n",
    "print(\"T2* = \", popt[1])\n",
    "plt.plot(x, func(x, *popt), 'r-')\n",
    "plt.plot(x, y, 'bo')"
   ]
  },
  {
   "cell_type": "code",
   "execution_count": null,
   "metadata": {},
   "outputs": [],
   "source": []
  },
  {
   "cell_type": "code",
   "execution_count": null,
   "metadata": {},
   "outputs": [],
   "source": []
  }
 ],
 "metadata": {
  "kernelspec": {
   "display_name": "Python 3",
   "language": "python",
   "name": "python3"
  },
  "language_info": {
   "codemirror_mode": {
    "name": "ipython",
    "version": 3
   },
   "file_extension": ".py",
   "mimetype": "text/x-python",
   "name": "python",
   "nbconvert_exporter": "python",
   "pygments_lexer": "ipython3",
   "version": "3.7.1"
  }
 },
 "nbformat": 4,
 "nbformat_minor": 2
}
