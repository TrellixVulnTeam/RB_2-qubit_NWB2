{
 "cells": [
  {
   "cell_type": "code",
   "execution_count": 6,
   "metadata": {},
   "outputs": [],
   "source": [
    "import pickle\n",
    "import matplotlib.pyplot as plt\n",
    "from scipy.optimize import curve_fit\n",
    "import math\n",
    "import numpy as np"
   ]
  },
  {
   "cell_type": "code",
   "execution_count": 7,
   "metadata": {},
   "outputs": [
    {
     "name": "stdout",
     "output_type": "stream",
     "text": [
      "[0, 0, 0, 0, 0, 0, 0, 0, 0, 0, 200000000.0, 200000000.0, 200000000.0, 200000000.0, 200000000.0, 200000000.0, 200000000.0, 200000000.0, 200000000.0, 200000000.0]\n"
     ]
    }
   ],
   "source": [
    "with open('noise_switch_frequency.pkl', 'rb') as f:\n",
    "    switch_list = pickle.load(f)\n",
    "f.close()\n",
    "\n",
    "print(switch_list)"
   ]
  },
  {
   "cell_type": "code",
   "execution_count": 22,
   "metadata": {},
   "outputs": [
    {
     "name": "stdout",
     "output_type": "stream",
     "text": [
      "[0.01734774 0.01496973 0.01796476 0.01800085 0.01718141 0.01772161\n",
      " 0.01875451 0.01877545 0.01670253 0.01738732 0.00127136 0.00124479\n",
      " 0.00135423 0.00121032 0.00120728 0.00124383 0.0012696  0.00121048\n",
      " 0.00135565 0.00130734]\n",
      "[0.01701012 0.0168477  0.01748751 0.01631363 0.01687229 0.01661998\n",
      " 0.01748053 0.01563195 0.01839115 0.01709103 0.00140795 0.00120169\n",
      " 0.00119206 0.00130346 0.00137234 0.00113754 0.00126626 0.00117421\n",
      " 0.00130631 0.00129953]\n",
      "[0.01885716 0.01650976 0.01796476 0.01900908 0.01674895 0.01588055\n",
      " 0.01791627 0.01913401 0.01704699 0.01831091 0.00120481 0.00129255\n",
      " 0.00122013 0.00125238 0.00115496 0.00116825 0.00125947 0.00125761\n",
      " 0.00126708 0.00120007]\n"
     ]
    }
   ],
   "source": [
    "with open('F_Clifford 1.pkl', 'rb') as f:\n",
    "    F_Clifford_1 = pickle.load(f)\n",
    "f.close()\n",
    "with open('r_sqrd 1.pkl', 'rb') as f:\n",
    "    r_sqrd_1 = pickle.load(f)\n",
    "f.close()\n",
    "with open('F_Clifford 2.pkl', 'rb') as f:\n",
    "    F_Clifford_2 = pickle.load(f)\n",
    "f.close()\n",
    "with open('r_sqrd 2.pkl', 'rb') as f:\n",
    "    r_sqrd_2 = pickle.load(f)\n",
    "f.close()\n",
    "with open('F_Clifford 3.pkl', 'rb') as f:\n",
    "    F_Clifford_3 = pickle.load(f)\n",
    "f.close()\n",
    "with open('r_sqrd 3.pkl', 'rb') as f:\n",
    "    r_sqrd_3 = pickle.load(f)\n",
    "f.close()\n",
    "\n",
    "F_Clifford_0 = np.concatenate((F_Clifford_1[:10], F_Clifford_2[:10], F_Clifford_3[:10]), axis=None)\n",
    "F_Clifford_dt = np.concatenate((F_Clifford_1[10:], F_Clifford_2[10:], F_Clifford_3[10:]), axis=None)\n",
    "r_sqrd_0 = np.concatenate((r_sqrd_1[:10], r_sqrd_2[:10], r_sqrd_3[:10]), axis=None)\n",
    "r_sqrd_dt = np.concatenate((r_sqrd_1[10:], r_sqrd_2[10:], r_sqrd_3[10:]), axis=None)"
   ]
  },
  {
   "cell_type": "code",
   "execution_count": 21,
   "metadata": {},
   "outputs": [
    {
     "ename": "NameError",
     "evalue": "name 'F_Clifford' is not defined",
     "output_type": "error",
     "traceback": [
      "\u001b[1;31m---------------------------------------------------------------------------\u001b[0m",
      "\u001b[1;31mNameError\u001b[0m                                 Traceback (most recent call last)",
      "\u001b[1;32m<ipython-input-21-7767c15ef056>\u001b[0m in \u001b[0;36m<module>\u001b[1;34m\u001b[0m\n\u001b[0;32m      1\u001b[0m \u001b[0mplot1\u001b[0m \u001b[1;33m=\u001b[0m \u001b[0mplt\u001b[0m\u001b[1;33m.\u001b[0m\u001b[0mfigure\u001b[0m\u001b[1;33m(\u001b[0m\u001b[1;36m1\u001b[0m\u001b[1;33m)\u001b[0m\u001b[1;33m\u001b[0m\u001b[1;33m\u001b[0m\u001b[0m\n\u001b[1;32m----> 2\u001b[1;33m \u001b[0mplt\u001b[0m\u001b[1;33m.\u001b[0m\u001b[0mplot\u001b[0m\u001b[1;33m(\u001b[0m\u001b[0mplt_switch_list\u001b[0m\u001b[1;33m,\u001b[0m \u001b[0mF_Clifford\u001b[0m \u001b[1;33m*\u001b[0m \u001b[1;36m100\u001b[0m\u001b[1;33m,\u001b[0m \u001b[1;34m'o'\u001b[0m\u001b[1;33m,\u001b[0m \u001b[0mmarkersize\u001b[0m\u001b[1;33m=\u001b[0m\u001b[1;36m4\u001b[0m\u001b[1;33m)\u001b[0m\u001b[1;33m\u001b[0m\u001b[1;33m\u001b[0m\u001b[0m\n\u001b[0m\u001b[0;32m      3\u001b[0m \u001b[1;31m# plt.xlabel(\"Switching time (us)\")\u001b[0m\u001b[1;33m\u001b[0m\u001b[1;33m\u001b[0m\u001b[1;33m\u001b[0m\u001b[0m\n\u001b[0;32m      4\u001b[0m \u001b[0mplt\u001b[0m\u001b[1;33m.\u001b[0m\u001b[0mxlabel\u001b[0m\u001b[1;33m(\u001b[0m\u001b[1;34m\"Switching frequency (Hz)\"\u001b[0m\u001b[1;33m)\u001b[0m\u001b[1;33m\u001b[0m\u001b[1;33m\u001b[0m\u001b[0m\n\u001b[0;32m      5\u001b[0m \u001b[0mplt\u001b[0m\u001b[1;33m.\u001b[0m\u001b[0mylabel\u001b[0m\u001b[1;33m(\u001b[0m\u001b[1;34m\"Clifford infidelity (%)\"\u001b[0m\u001b[1;33m)\u001b[0m\u001b[1;33m\u001b[0m\u001b[1;33m\u001b[0m\u001b[0m\n",
      "\u001b[1;31mNameError\u001b[0m: name 'F_Clifford' is not defined"
     ]
    },
    {
     "data": {
      "text/plain": [
       "<Figure size 432x288 with 0 Axes>"
      ]
     },
     "metadata": {},
     "output_type": "display_data"
    }
   ],
   "source": [
    "plot1 = plt.figure(1)\n",
    "plt.plot(plt_switch_list, F_Clifford * 100, 'o', markersize=4)\n",
    "# plt.xlabel(\"Switching time (us)\")\n",
    "plt.xlabel(\"Switching frequency (Hz)\")\n",
    "plt.ylabel(\"Clifford infidelity (%)\")\n",
    "plt.show()\n",
    "\n",
    "plot2 = plt.figure(2)\n",
    "plt.plot(plt_switch_list, r_sqrd, 'o', markersize=4)\n",
    "# plt.xlabel(\"Switching time (us)\")\n",
    "plt.xlabel(\"Switching frequency (Hz)\")\n",
    "plt.ylabel(\"R_squared\")\n",
    "plt.show()"
   ]
  },
  {
   "cell_type": "code",
   "execution_count": null,
   "metadata": {},
   "outputs": [],
   "source": []
  }
 ],
 "metadata": {
  "kernelspec": {
   "display_name": "Python 3",
   "language": "python",
   "name": "python3"
  },
  "language_info": {
   "codemirror_mode": {
    "name": "ipython",
    "version": 3
   },
   "file_extension": ".py",
   "mimetype": "text/x-python",
   "name": "python",
   "nbconvert_exporter": "python",
   "pygments_lexer": "ipython3",
   "version": "3.7.1"
  }
 },
 "nbformat": 4,
 "nbformat_minor": 2
}
