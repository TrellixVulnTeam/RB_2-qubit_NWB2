{
 "cells": [
  {
   "cell_type": "code",
   "execution_count": 1,
   "metadata": {},
   "outputs": [],
   "source": [
    "import pickle\n",
    "import matplotlib.pyplot as plt\n",
    "from scipy.optimize import curve_fit\n",
    "import math"
   ]
  },
  {
   "cell_type": "code",
   "execution_count": null,
   "metadata": {},
   "outputs": [],
   "source": [
    "with open('primitive_length.pkl', 'rb') as f:\n",
    "    L = pickle.load(f)\n",
    "f.close()\n",
    "\n",
    "with open('noise_switch_time.pkl', 'rb') as f:\n",
    "    switch_list = pickle.load(f)\n",
    "f.close()"
   ]
  },
  {
   "cell_type": "code",
   "execution_count": null,
   "metadata": {},
   "outputs": [],
   "source": [
    "with open('SWITCH_TIME_INDEX.pkl', 'rb') as f:\n",
    "    data = pickle.load(f)\n",
    "f.close()\n",
    "\n",
    "y = data[1]\n",
    "###############\n",
    "# SRB with fixed B\n",
    "\n",
    "def func(x, A, r):\n",
    "    return  A * (1 - 4/3*r)**x + 0.25\n",
    "\n",
    "popt, pcov = curve_fit(func, x, y, p0=[1, 0], bounds=(0, 1), maxfev=5000)\n",
    "print(\"F_Ciff = 1 - r = \", 1 - popt[1])\n",
    "print(\"A = \", popt[0])\n",
    "\n",
    "plt.plot(L, y, 'o', markersize=4)\n",
    "plt.plot(L, func(L, *popt), 'r-')\n",
    "plt.ylim(top=1.0)\n",
    "plt.xlabel(\"Number of Cliffords (L)\")\n",
    "plt.ylabel(\"Proj. State Prob.\")\n",
    "plt.title(\"Lab Frame RB w/ switching noise\")\n",
    "plt.show()\n",
    "\n",
    "###############\n",
    "# Fixed constant term with logarithm\n",
    "# a = ln(A)\n",
    "# b = ln(1 - 4/3*r)\n",
    "def func(x, a, b):\n",
    "    return  a + b*x\n",
    "\n",
    "y_fit = [p - 0.25 for p in y]\n",
    "y_fit = np.log(np.absolute(y_fit))\n",
    "# L = L[0:18]\n",
    "# y_fit = y_fit[0:18]\n",
    "popt, pcov = curve_fit(func, L, y_fit, p0=[-0.5, -0.5], bounds=[(-0.5, -0.5), (0, 0)], maxfev=5000)\n",
    "r = 3/4 * (1 - np.exp(popt[1]))\n",
    "print(\"F_Ciff = 1 - r = \", 1 - r)\n",
    "print(\"A = \", np.exp(popt[0]))\n",
    "\n",
    "plt.plot(L, y_fit, 'o', markersize=4)\n",
    "plt.plot(L, func(x, *popt), 'r-')\n",
    "plt.ylim(top=0.0)\n",
    "plt.xlabel(\"Number of Cliffords (L)\")\n",
    "plt.ylabel(\"Proj. State Prob.\")\n",
    "plt.title(\"Lab Frame RB w/ noise\")\n",
    "plt.show()"
   ]
  },
  {
   "cell_type": "code",
   "execution_count": 2,
   "metadata": {},
   "outputs": [
    {
     "data": {
      "image/png": "[encoded data removed]",
      "text/plain": [
       "<Figure size 432x288 with 1 Axes>"
      ]
     },
     "metadata": {
      "needs_background": "light"
     },
     "output_type": "display_data"
    },
    {
     "data": {
      "image/png": "[encoded data removed]",
      "text/plain": [
       "<Figure size 432x288 with 1 Axes>"
      ]
     },
     "metadata": {
      "needs_background": "light"
     },
     "output_type": "display_data"
    }
   ],
   "source": [
    "###############\n",
    "# SRB with fixed B\n",
    "\n",
    "# def func(x, A, r):\n",
    "#     return  A * (1 - 4/3*r)**x + 0.25\n",
    "\n",
    "###############\n",
    "# Fixed constant term with logarithm\n",
    "# a = ln(A)\n",
    "# b = ln(1 - 4/3*r)\n",
    "def func(x, a, b):\n",
    "    return  a + b*x\n",
    "\n",
    "F_Clifford = np.zeros(len(switch_list))\n",
    "r_sqrd = np.zeros(len(switch_list))\n",
    "\n",
    "for i in range(len(switch_list)):\n",
    "    with open(str(i) + '.pkl', 'rb') as f:\n",
    "        data = pickle.load(f)\n",
    "    f.close()\n",
    "    \n",
    "    noise_index = data[0]\n",
    "    y = data[1]\n",
    "    \n",
    "    ###############\n",
    "    # SRB with fixed B\n",
    "#     popt, pcov = curve_fit(func, L, y, p0=[1, 0], bounds=(0, 1), maxfev=5000)\n",
    "#     F_Clifford[i] = popt[1] * 100\n",
    "    \n",
    "    ###############\n",
    "    # Fixed constant term with logarithm\n",
    "    y_fit = [p - 0.25 for p in y]\n",
    "    y_fit = np.log(np.absolute(y_fit))\n",
    "#     x = x[0:18]\n",
    "#     y_fit = y_fit[0:18]\n",
    "    popt, pcov = curve_fit(func, x, y_fit, p0=[-0.5, -0.5], bounds=[(-0.5, -0.5), (0, 0)], maxfev=5000)\n",
    "    F_Clifford[i] = 3/4 * (1 - np.exp(popt[1]))\n",
    "    residuals = y - func(L, *popt)\n",
    "    ss_res = np.sum(residuals**2)\n",
    "    ss_tot = np.sum((y - np.mean(y))**2)\n",
    "    r_sqrd[i] = 1 - (ss_res/ss_tot)\n",
    "\n",
    "plot1 = plt.figure(1)\n",
    "plt_switch_list = [x * 1000000 for x in switch_list]\n",
    "plt.plot(plt_switch_list, F_Clifford, 'o', markersize=4)\n",
    "plt.xlabel(\"Switching time (us)\")\n",
    "plt.ylabel(\"Clifford infidelity (%)\")\n",
    "plt.show()\n",
    "\n",
    "plot2 = plt.figure(2)\n",
    "plt_switch_list = [x * 1000000 for x in switch_list]\n",
    "plt.plot(plt_switch_list, r_sqrd, 'o', markersize=4)\n",
    "plt.xlabel(\"Switching time (us)\")\n",
    "plt.ylabel(\"R_squared\")\n",
    "plt.show()"
   ]
  },
  {
   "cell_type": "code",
   "execution_count": null,
   "metadata": {},
   "outputs": [],
   "source": []
  },
  {
   "cell_type": "code",
   "execution_count": null,
   "metadata": {},
   "outputs": [],
   "source": []
  }
 ],
 "metadata": {
  "kernelspec": {
   "display_name": "Python 3",
   "language": "python",
   "name": "python3"
  },
  "language_info": {
   "codemirror_mode": {
    "name": "ipython",
    "version": 3
   },
   "file_extension": ".py",
   "mimetype": "text/x-python",
   "name": "python",
   "nbconvert_exporter": "python",
   "pygments_lexer": "ipython3",
   "version": "3.7.1"
  }
 },
 "nbformat": 4,
 "nbformat_minor": 2
}
