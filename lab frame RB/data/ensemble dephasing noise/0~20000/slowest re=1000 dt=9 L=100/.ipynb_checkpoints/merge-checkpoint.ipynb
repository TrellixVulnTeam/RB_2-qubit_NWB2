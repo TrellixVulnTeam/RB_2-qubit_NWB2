{
 "cells": [
  {
   "cell_type": "code",
   "execution_count": null,
   "id": "4f56de7d",
   "metadata": {},
   "outputs": [],
   "source": [
    "import pickle\n",
    "import matplotlib.pyplot as plt\n",
    "from scipy.optimize import curve_fit\n",
    "import math\n",
    "import numpy as np\n",
    "\n",
    "with open('ensemble_sigma_noise_fidelity_2q_1.pkl', 'rb') as f:\n",
    "    F_1 = pickle.load(f)\n",
    "f.close()\n",
    "\n",
    "with open('ensemble_sigma_noise_fidelity_2q_2.pkl', 'rb') as f:\n",
    "    F_2 = pickle.load(f)\n",
    "f.close()\n",
    "\n",
    "with open('ensemble_sigma_noise_sigma_2q_1.pkl', 'rb') as f:\n",
    "    x_1 = pickle.load(f)\n",
    "f.close()\n",
    "\n",
    "with open('ensemble_sigma_noise_fidelity_2q_2.pkl', 'rb') as f:\n",
    "    x_2 = pickle.load(f)\n",
    "f.close()\n",
    "\n",
    "with open('ensemble_sigma_r_squared_2q_1.pkl', 'rb') as f:\n",
    "    r_1 = pickle.load(f)\n",
    "f.close()\n",
    "\n",
    "with open('ensemble_sigma_r_squared_2q_2.pkl', 'rb') as f:\n",
    "    r_2 = pickle.load(f)\n",
    "f.close()"
   ]
  },
  {
   "cell_type": "code",
   "execution_count": null,
   "id": "7aaee4e2",
   "metadata": {},
   "outputs": [],
   "source": []
  }
 ],
 "metadata": {
  "kernelspec": {
   "display_name": "Python 3 (ipykernel)",
   "language": "python",
   "name": "python3"
  },
  "language_info": {
   "codemirror_mode": {
    "name": "ipython",
    "version": 3
   },
   "file_extension": ".py",
   "mimetype": "text/x-python",
   "name": "python",
   "nbconvert_exporter": "python",
   "pygments_lexer": "ipython3",
   "version": "3.7.1"
  }
 },
 "nbformat": 4,
 "nbformat_minor": 5
}
