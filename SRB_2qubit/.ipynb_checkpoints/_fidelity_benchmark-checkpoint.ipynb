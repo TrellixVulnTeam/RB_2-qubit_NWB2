{
 "cells": [
  {
   "cell_type": "markdown",
   "metadata": {},
   "source": [
    "# Fidelity benchmarks for two-qubit gates in silicon\n",
    "(https://www.nature.com/articles/s41586-019-1197-0)"
   ]
  },
  {
   "cell_type": "code",
   "execution_count": 1,
   "metadata": {},
   "outputs": [],
   "source": [
    "from sympy import *\n",
    "import numpy as np\n",
    "from sympy.physics.quantum import Dagger\n",
    "from IPython.display import display, Math\n",
    "init_printing(use_unicode=True)\n",
    "import matplotlib.pyplot as plt"
   ]
  },
  {
   "cell_type": "markdown",
   "metadata": {},
   "source": [
    "## Hamiltonian"
   ]
  },
  {
   "cell_type": "code",
   "execution_count": 2,
   "metadata": {},
   "outputs": [
    {
     "data": {
      "text/latex": [
       "$\\displaystyle H = \\left[\\begin{matrix}1.0 E_{Z} & 0.5 B_{1} \\gamma_{2_{↑}} & 0.5 B_{1} \\gamma_{1_{↑}} & 0\\\\0.5 \\gamma_{2_{↑}} \\overline{B_{1}} & - 0.5 J + 0.5 {d_t}E_Z & 0 & 0.5 B_{1} \\gamma_{1_{↓}}\\\\0.5 \\gamma_{1_{↑}} \\overline{B_{1}} & 0 & - 0.5 J - 0.5 {d_t}E_Z & 0.5 B_{1} \\gamma_{2_{↓}}\\\\0 & 0.5 \\gamma_{1_{↓}} \\overline{B_{1}} & 0.5 \\gamma_{2_{↓}} \\overline{B_{1}} & - 1.0 E_{Z}\\end{matrix}\\right]$"
      ],
      "text/plain": [
       "<IPython.core.display.Math object>"
      ]
     },
     "metadata": {},
     "output_type": "display_data"
    }
   ],
   "source": [
    "B1 = symbols('B1')\n",
    "EZ,dEz,dtEz,J= symbols('E_Z dE_z {d_t}E_Z J',real=True)\n",
    "# dtEz = sqrt(dEz**2+J**2)\n",
    "g1_up,g1_down,g2_up,g2_down = symbols('\\gamma_{1_{↑}} \\gamma_{1_{↓}} \\gamma_{2_{↑}} \\gamma_{2_{↓}}',real=True,positive=True)\n",
    "\n",
    "def H(B1,EZ,dEz,dtEz,J):\n",
    "    return 1/2*Matrix([[2*EZ, g2_up*B1,g1_up*B1,0], [g2_up*conjugate(B1),dtEz-J,0,g1_down*B1],[g1_up*conjugate(B1),0,-dtEz-J,g2_down*B1],[0,g1_down*conjugate(B1),g2_down*conjugate(B1),-2*EZ]])\n",
    "\n",
    "display(Math('H = '+latex(H(B1,EZ,dEz,dtEz,J))))\n"
   ]
  },
  {
   "cell_type": "code",
   "execution_count": 3,
   "metadata": {},
   "outputs": [
    {
     "data": {
      "text/latex": [
       "$\\displaystyle \\left[\\begin{matrix}f_{1↑}\\\\f_{1↓}\\\\f_{2↑}\\\\f_{2↓}\\end{matrix}\\right]=\\left[\\begin{matrix}\\frac{E_{Z}}{ℏ} + \\frac{\\frac{J}{2} + \\frac{{d_t}E_Z}{2}}{ℏ}\\\\\\frac{E_{Z}}{ℏ} + \\frac{- \\frac{J}{2} + \\frac{{d_t}E_Z}{2}}{ℏ}\\\\\\frac{E_{Z}}{ℏ} + \\frac{\\frac{J}{2} - \\frac{{d_t}E_Z}{2}}{ℏ}\\\\\\frac{E_{Z}}{ℏ} + \\frac{- \\frac{J}{2} - \\frac{{d_t}E_Z}{2}}{ℏ}\\end{matrix}\\right]$"
      ],
      "text/plain": [
       "<IPython.core.display.Math object>"
      ]
     },
     "metadata": {},
     "output_type": "display_data"
    }
   ],
   "source": [
    "hbar = symbols('ℏ',real=True,positive=True)\n",
    "f1_up,f1_down,f2_up,f2_down = symbols(\"f_{1↑},f_{1↓},f_{2↑},f_{2↓}\",real=true)\n",
    "f1_up = EZ/hbar+(dtEz+J)/2/hbar\n",
    "f1_down = EZ/hbar+(dtEz-J)/2/hbar\n",
    "f2_up = EZ/hbar+(-dtEz+J)/2/hbar\n",
    "f2_down = EZ/hbar+(-dtEz-J)/2/hbar\n",
    "display(Math( latex( Matrix([Symbol(\"f_{1↑}\"),Symbol(\"f_{1↓}\"),Symbol(\"f_{2↑}\"),Symbol(\"f_{2↓}\")]) ) +'='+latex(Matrix([f1_up,f1_down,f2_up,f2_down]))))"
   ]
  },
  {
   "cell_type": "code",
   "execution_count": 4,
   "metadata": {},
   "outputs": [
    {
     "data": {
      "text/latex": [
       "$\\displaystyle \\left[\\begin{matrix}B_{1↑}(t)\\\\B_{1↓}(t)\\\\B_{2↑}(t)\\\\B_{2↓}(t)\\end{matrix}\\right]=\\left[\\begin{matrix}\\frac{Ω e^{i t \\left(\\frac{E_{Z}}{ℏ} + \\frac{\\frac{J}{2} + \\frac{{d_t}E_Z}{2}}{ℏ}\\right)}}{\\gamma_{1_{↑}}}\\\\\\frac{Ω e^{i t \\left(\\frac{E_{Z}}{ℏ} + \\frac{- \\frac{J}{2} + \\frac{{d_t}E_Z}{2}}{ℏ}\\right)}}{\\gamma_{1_{↓}}}\\\\\\frac{Ω e^{i t \\left(\\frac{E_{Z}}{ℏ} + \\frac{\\frac{J}{2} - \\frac{{d_t}E_Z}{2}}{ℏ}\\right)}}{\\gamma_{2_{↑}}}\\\\\\frac{Ω e^{i t \\left(\\frac{E_{Z}}{ℏ} + \\frac{- \\frac{J}{2} - \\frac{{d_t}E_Z}{2}}{ℏ}\\right)}}{\\gamma_{2_{↓}}}\\end{matrix}\\right]$"
      ],
      "text/plain": [
       "<IPython.core.display.Math object>"
      ]
     },
     "metadata": {},
     "output_type": "display_data"
    }
   ],
   "source": [
    "t = symbols(\"t\",real=True)\n",
    "om = symbols(\"Ω\")\n",
    "B1_up,B1_down,B2_up,B2_down = symbols(\"B_{1↑}(t),B_{1↓}(t),B_{2↑}(t),B_{2↓}(t)\")\n",
    "B1_up = om/g1_up*exp(I*f1_up*t)\n",
    "B1_down = om/g1_down*exp(I*f1_down*t)\n",
    "B2_up = om/g2_up*exp(I*f2_up*t)\n",
    "B2_down = om/g2_down*exp(I*f2_down*t)\n",
    "display(Math( latex( Matrix([Symbol(\"B_{1↑}(t)\"),Symbol(\"B_{1↓}(t)\"),Symbol(\"B_{2↑}(t)\"),Symbol(\"B_{2↓}(t)\")]) ) +'='+latex(Matrix([B1_up,B1_down,B2_up,B2_down]))))"
   ]
  },
  {
   "cell_type": "markdown",
   "metadata": {},
   "source": [
    "## Here is some \"FAULT\" of supplement paper (about $R_{11},R_{22}$)"
   ]
  },
  {
   "cell_type": "code",
   "execution_count": 93,
   "metadata": {},
   "outputs": [
    {
     "data": {
      "text/latex": [
       "$\\displaystyle R = \\left[\\begin{matrix}e^{- \\frac{i E_{Z} t}{ℏ}} & 0 & 0 & 0\\\\0 & e^{- \\frac{i t \\left(- J + {d_t}E_Z\\right)}{2 ℏ}} & 0 & 0\\\\0 & 0 & e^{\\frac{i t \\left(J + {d_t}E_Z\\right)}{2 ℏ}} & 0\\\\0 & 0 & 0 & e^{\\frac{i E_{Z} t}{ℏ}}\\end{matrix}\\right]$"
      ],
      "text/plain": [
       "<IPython.core.display.Math object>"
      ]
     },
     "metadata": {},
     "output_type": "display_data"
    }
   ],
   "source": [
    "H_RWA ,R= symbols('H_{RWA} R')\n",
    "R = Matrix( np.diagflat( [exp(-I*EZ*t/hbar), exp(-I*(dtEz-J)*t/2/hbar) , exp(I*(dtEz+J)*t/2/hbar) , exp(I*EZ*t/hbar)] ) ) \n",
    "display(Math('R = '+latex(R)))"
   ]
  },
  {
   "cell_type": "markdown",
   "metadata": {},
   "source": [
    "## Resonance it's mean dtE>>J ,dEz>>J"
   ]
  },
  {
   "cell_type": "code",
   "execution_count": 94,
   "metadata": {},
   "outputs": [
    {
     "data": {
      "text/latex": [
       "$\\displaystyle H_{RWA,1↑}(t) = \\left[\\begin{matrix}0 & \\frac{0.5 \\gamma_{2_{↑}} Ω e^{\\frac{i t {d_t}E_Z}{ℏ}}}{\\gamma_{1_{↑}}} & 0.5 Ω & 0\\\\\\frac{0.5 \\gamma_{2_{↑}} e^{- \\frac{i t {d_t}E_Z}{ℏ}} \\overline{Ω}}{\\gamma_{1_{↑}}} & 0 & 0 & \\frac{0.5 \\gamma_{1_{↓}} Ω e^{\\frac{i J t}{ℏ}}}{\\gamma_{1_{↑}}}\\\\0.5 \\overline{Ω} & 0 & 0 & \\frac{0.5 \\gamma_{2_{↓}} Ω e^{\\frac{i t \\left(J + {d_t}E_Z\\right)}{ℏ}}}{\\gamma_{1_{↑}}}\\\\0 & \\frac{0.5 \\gamma_{1_{↓}} e^{- \\frac{i J t}{ℏ}} \\overline{Ω}}{\\gamma_{1_{↑}}} & \\frac{0.5 \\gamma_{2_{↓}} e^{- \\frac{i t \\left(J + {d_t}E_Z\\right)}{ℏ}} \\overline{Ω}}{\\gamma_{1_{↑}}} & 0\\end{matrix}\\right]$"
      ],
      "text/plain": [
       "<IPython.core.display.Math object>"
      ]
     },
     "metadata": {},
     "output_type": "display_data"
    },
    {
     "data": {
      "text/latex": [
       "$\\displaystyle H_{RWA,1↓}(t) = \\left[\\begin{matrix}0 & \\frac{0.5 \\gamma_{2_{↑}} Ω e^{\\frac{i t \\left(- J + {d_t}E_Z\\right)}{ℏ}}}{\\gamma_{1_{↓}}} & \\frac{0.5 \\gamma_{1_{↑}} Ω e^{- \\frac{i J t}{ℏ}}}{\\gamma_{1_{↓}}} & 0\\\\\\frac{0.5 \\gamma_{2_{↑}} e^{\\frac{i t \\left(J - {d_t}E_Z\\right)}{ℏ}} \\overline{Ω}}{\\gamma_{1_{↓}}} & 0 & 0 & 0.5 Ω\\\\\\frac{0.5 \\gamma_{1_{↑}} e^{\\frac{i J t}{ℏ}} \\overline{Ω}}{\\gamma_{1_{↓}}} & 0 & 0 & \\frac{0.5 \\gamma_{2_{↓}} Ω e^{\\frac{i t {d_t}E_Z}{ℏ}}}{\\gamma_{1_{↓}}}\\\\0 & 0.5 \\overline{Ω} & \\frac{0.5 \\gamma_{2_{↓}} e^{- \\frac{i t {d_t}E_Z}{ℏ}} \\overline{Ω}}{\\gamma_{1_{↓}}} & 0\\end{matrix}\\right]$"
      ],
      "text/plain": [
       "<IPython.core.display.Math object>"
      ]
     },
     "metadata": {},
     "output_type": "display_data"
    },
    {
     "data": {
      "text/latex": [
       "$\\displaystyle H_{RWA,2↑}(t) = \\left[\\begin{matrix}0 & 0.5 Ω & \\frac{0.5 \\gamma_{1_{↑}} Ω e^{- \\frac{i t {d_t}E_Z}{ℏ}}}{\\gamma_{2_{↑}}} & 0\\\\0.5 \\overline{Ω} & 0 & 0 & \\frac{0.5 \\gamma_{1_{↓}} Ω e^{\\frac{i t \\left(J - {d_t}E_Z\\right)}{ℏ}}}{\\gamma_{2_{↑}}}\\\\\\frac{0.5 \\gamma_{1_{↑}} e^{\\frac{i t {d_t}E_Z}{ℏ}} \\overline{Ω}}{\\gamma_{2_{↑}}} & 0 & 0 & \\frac{0.5 \\gamma_{2_{↓}} Ω e^{\\frac{i J t}{ℏ}}}{\\gamma_{2_{↑}}}\\\\0 & \\frac{0.5 \\gamma_{1_{↓}} e^{\\frac{i t \\left(- J + {d_t}E_Z\\right)}{ℏ}} \\overline{Ω}}{\\gamma_{2_{↑}}} & \\frac{0.5 \\gamma_{2_{↓}} e^{- \\frac{i J t}{ℏ}} \\overline{Ω}}{\\gamma_{2_{↑}}} & 0\\end{matrix}\\right]$"
      ],
      "text/plain": [
       "<IPython.core.display.Math object>"
      ]
     },
     "metadata": {},
     "output_type": "display_data"
    },
    {
     "data": {
      "text/latex": [
       "$\\displaystyle H_{RWA,2↓}(t) = \\left[\\begin{matrix}0 & \\frac{0.5 \\gamma_{2_{↑}} Ω e^{- \\frac{i J t}{ℏ}}}{\\gamma_{2_{↓}}} & \\frac{0.5 \\gamma_{1_{↑}} Ω e^{- \\frac{i t \\left(J + {d_t}E_Z\\right)}{ℏ}}}{\\gamma_{2_{↓}}} & 0\\\\\\frac{0.5 \\gamma_{2_{↑}} e^{\\frac{i J t}{ℏ}} \\overline{Ω}}{\\gamma_{2_{↓}}} & 0 & 0 & \\frac{0.5 \\gamma_{1_{↓}} Ω e^{- \\frac{i t {d_t}E_Z}{ℏ}}}{\\gamma_{2_{↓}}}\\\\\\frac{0.5 \\gamma_{1_{↑}} e^{\\frac{i t \\left(J + {d_t}E_Z\\right)}{ℏ}} \\overline{Ω}}{\\gamma_{2_{↓}}} & 0 & 0 & 0.5 Ω\\\\0 & \\frac{0.5 \\gamma_{1_{↓}} e^{\\frac{i t {d_t}E_Z}{ℏ}} \\overline{Ω}}{\\gamma_{2_{↓}}} & 0.5 \\overline{Ω} & 0\\end{matrix}\\right]$"
      ],
      "text/plain": [
       "<IPython.core.display.Math object>"
      ]
     },
     "metadata": {},
     "output_type": "display_data"
    }
   ],
   "source": [
    "def H_RWA(B1,EZ,dEz,dtEz,J): \n",
    "    return simplify(R*H(B1,EZ,dEz,dtEz,J)*Dagger(R)-hbar*I*diff(R,t)*Dagger(R))\n",
    "def H_anti_RWA(H):\n",
    "    return simplify(Dagger(R)* ( H+ hbar*I*diff(R,t)*Dagger(R) ) *R)\n",
    "\n",
    "Hr1_up = H_RWA(B1_up,EZ,dEz,dtEz,J)\n",
    "Hr1_down = H_RWA(B1_down,EZ,dEz,dtEz,J)\n",
    "Hr2_up = H_RWA(B2_up,EZ,dEz,dtEz,J)\n",
    "Hr2_down = H_RWA(B2_down,EZ,dEz,dtEz,J)\n",
    "\n",
    "display(Math('H_{RWA,1↑}(t) = '+latex(Hr1_up)))\n",
    "display(Math('H_{RWA,1↓}(t) = '+latex(Hr1_down)))\n",
    "display(Math('H_{RWA,2↑}(t) = '+latex(Hr2_up)))\n",
    "display(Math('H_{RWA,2↓}(t) = '+latex(Hr2_down)))\n"
   ]
  },
  {
   "cell_type": "code",
   "execution_count": 95,
   "metadata": {},
   "outputs": [
    {
     "data": {
      "text/latex": [
       "$\\displaystyle H_{RWA,1↑}(t) = \\left[\\begin{matrix}0 & \\frac{0.5 \\gamma_{2_{↑}} Ω e^{\\frac{10 i J t}{ℏ}}}{\\gamma_{1_{↑}}} & 0.5 Ω & 0\\\\\\frac{0.5 \\gamma_{2_{↑}} e^{- \\frac{10 i J t}{ℏ}} \\overline{Ω}}{\\gamma_{1_{↑}}} & 0 & 0 & \\frac{0.5 \\gamma_{1_{↓}} Ω e^{\\frac{i J t}{ℏ}}}{\\gamma_{1_{↑}}}\\\\0.5 \\overline{Ω} & 0 & 0 & \\frac{0.5 \\gamma_{2_{↓}} Ω e^{\\frac{11 i J t}{ℏ}}}{\\gamma_{1_{↑}}}\\\\0 & \\frac{0.5 \\gamma_{1_{↓}} e^{- \\frac{i J t}{ℏ}} \\overline{Ω}}{\\gamma_{1_{↑}}} & \\frac{0.5 \\gamma_{2_{↓}} e^{- \\frac{11 i J t}{ℏ}} \\overline{Ω}}{\\gamma_{1_{↑}}} & 0\\end{matrix}\\right]$"
      ],
      "text/plain": [
       "<IPython.core.display.Math object>"
      ]
     },
     "metadata": {},
     "output_type": "display_data"
    },
    {
     "data": {
      "text/latex": [
       "$\\displaystyle H_{RWA,1↓}(t) = \\left[\\begin{matrix}0 & \\frac{0.5 \\gamma_{2_{↑}} Ω e^{\\frac{9 i J t}{ℏ}}}{\\gamma_{1_{↓}}} & \\frac{0.5 \\gamma_{1_{↑}} Ω e^{- \\frac{i J t}{ℏ}}}{\\gamma_{1_{↓}}} & 0\\\\\\frac{0.5 \\gamma_{2_{↑}} e^{- \\frac{9 i J t}{ℏ}} \\overline{Ω}}{\\gamma_{1_{↓}}} & 0 & 0 & 0.5 Ω\\\\\\frac{0.5 \\gamma_{1_{↑}} e^{\\frac{i J t}{ℏ}} \\overline{Ω}}{\\gamma_{1_{↓}}} & 0 & 0 & \\frac{0.5 \\gamma_{2_{↓}} Ω e^{\\frac{10 i J t}{ℏ}}}{\\gamma_{1_{↓}}}\\\\0 & 0.5 \\overline{Ω} & \\frac{0.5 \\gamma_{2_{↓}} e^{- \\frac{10 i J t}{ℏ}} \\overline{Ω}}{\\gamma_{1_{↓}}} & 0\\end{matrix}\\right]$"
      ],
      "text/plain": [
       "<IPython.core.display.Math object>"
      ]
     },
     "metadata": {},
     "output_type": "display_data"
    },
    {
     "data": {
      "text/latex": [
       "$\\displaystyle H_{RWA,2↑}(t) = \\left[\\begin{matrix}0 & 0.5 Ω & \\frac{0.5 \\gamma_{1_{↑}} Ω e^{- \\frac{10 i J t}{ℏ}}}{\\gamma_{2_{↑}}} & 0\\\\0.5 \\overline{Ω} & 0 & 0 & \\frac{0.5 \\gamma_{1_{↓}} Ω e^{- \\frac{9 i J t}{ℏ}}}{\\gamma_{2_{↑}}}\\\\\\frac{0.5 \\gamma_{1_{↑}} e^{\\frac{10 i J t}{ℏ}} \\overline{Ω}}{\\gamma_{2_{↑}}} & 0 & 0 & \\frac{0.5 \\gamma_{2_{↓}} Ω e^{\\frac{i J t}{ℏ}}}{\\gamma_{2_{↑}}}\\\\0 & \\frac{0.5 \\gamma_{1_{↓}} e^{\\frac{9 i J t}{ℏ}} \\overline{Ω}}{\\gamma_{2_{↑}}} & \\frac{0.5 \\gamma_{2_{↓}} e^{- \\frac{i J t}{ℏ}} \\overline{Ω}}{\\gamma_{2_{↑}}} & 0\\end{matrix}\\right]$"
      ],
      "text/plain": [
       "<IPython.core.display.Math object>"
      ]
     },
     "metadata": {},
     "output_type": "display_data"
    },
    {
     "data": {
      "text/latex": [
       "$\\displaystyle H_{RWA,2↓}(t) = \\left[\\begin{matrix}0 & \\frac{0.5 \\gamma_{2_{↑}} Ω e^{- \\frac{i J t}{ℏ}}}{\\gamma_{2_{↓}}} & \\frac{0.5 \\gamma_{1_{↑}} Ω e^{- \\frac{11 i J t}{ℏ}}}{\\gamma_{2_{↓}}} & 0\\\\\\frac{0.5 \\gamma_{2_{↑}} e^{\\frac{i J t}{ℏ}} \\overline{Ω}}{\\gamma_{2_{↓}}} & 0 & 0 & \\frac{0.5 \\gamma_{1_{↓}} Ω e^{- \\frac{10 i J t}{ℏ}}}{\\gamma_{2_{↓}}}\\\\\\frac{0.5 \\gamma_{1_{↑}} e^{\\frac{11 i J t}{ℏ}} \\overline{Ω}}{\\gamma_{2_{↓}}} & 0 & 0 & 0.5 Ω\\\\0 & \\frac{0.5 \\gamma_{1_{↓}} e^{\\frac{10 i J t}{ℏ}} \\overline{Ω}}{\\gamma_{2_{↓}}} & 0.5 \\overline{Ω} & 0\\end{matrix}\\right]$"
      ],
      "text/plain": [
       "<IPython.core.display.Math object>"
      ]
     },
     "metadata": {},
     "output_type": "display_data"
    }
   ],
   "source": [
    "Hr1_up_res = H_RWA(B1_up,EZ,dEz,dtEz,J).subs(dtEz,10*J)\n",
    "Hr1_down_res = H_RWA(B1_down,EZ,dEz,dtEz,J).subs(dtEz,10*J)\n",
    "Hr2_up_res = H_RWA(B2_up,EZ,dEz,dtEz,J).subs(dtEz,10*J)\n",
    "Hr2_down_res = H_RWA(B2_down,EZ,dEz,dtEz,J).subs(dtEz,10*J)\n",
    "\n",
    "display(Math('H_{RWA,1↑}(t) = '+latex(Hr1_up_res)))\n",
    "display(Math('H_{RWA,1↓}(t) = '+latex(Hr1_down_res)))\n",
    "display(Math('H_{RWA,2↑}(t) = '+latex(Hr2_up_res)))\n",
    "display(Math('H_{RWA,2↓}(t) = '+latex(Hr2_down_res)))"
   ]
  },
  {
   "cell_type": "code",
   "execution_count": 96,
   "metadata": {},
   "outputs": [
    {
     "data": {
      "text/latex": [
       "$\\displaystyle H_{0,RWA,1↑}(t) = \\left[\\begin{matrix}0 & 0 & 0.5 Ω & 0\\\\0 & 0 & 0 & 0\\\\0.5 \\overline{Ω} & 0 & 0 & 0\\\\0 & 0 & 0 & 0\\end{matrix}\\right]$"
      ],
      "text/plain": [
       "<IPython.core.display.Math object>"
      ]
     },
     "metadata": {},
     "output_type": "display_data"
    },
    {
     "data": {
      "text/latex": [
       "$\\displaystyle H_{0,RWA,1↓}(t) = \\left[\\begin{matrix}0 & 0 & 0 & 0\\\\0 & 0 & 0 & 0.5 Ω\\\\0 & 0 & 0 & 0\\\\0 & 0.5 \\overline{Ω} & 0 & 0\\end{matrix}\\right]$"
      ],
      "text/plain": [
       "<IPython.core.display.Math object>"
      ]
     },
     "metadata": {},
     "output_type": "display_data"
    },
    {
     "data": {
      "text/latex": [
       "$\\displaystyle H_{0,RWA,2↑}(t) = \\left[\\begin{matrix}0 & 0.5 Ω & 0 & 0\\\\0.5 \\overline{Ω} & 0 & 0 & 0\\\\0 & 0 & 0 & 0\\\\0 & 0 & 0 & 0\\end{matrix}\\right]$"
      ],
      "text/plain": [
       "<IPython.core.display.Math object>"
      ]
     },
     "metadata": {},
     "output_type": "display_data"
    },
    {
     "data": {
      "text/latex": [
       "$\\displaystyle H_{0,RWA,2↓}(t) = \\left[\\begin{matrix}0 & 0 & 0 & 0\\\\0 & 0 & 0 & 0\\\\0 & 0 & 0 & 0.5 Ω\\\\0 & 0 & 0.5 \\overline{Ω} & 0\\end{matrix}\\right]$"
      ],
      "text/plain": [
       "<IPython.core.display.Math object>"
      ]
     },
     "metadata": {},
     "output_type": "display_data"
    },
    {
     "data": {
      "text/latex": [
       "$\\displaystyle H_{1,RWA,1↑}(t) = \\left[\\begin{matrix}0 & 0 & 0 & 0\\\\0 & 0 & 0 & \\frac{0.5 \\gamma_{1_{↓}} Ω e^{\\frac{i J t}{ℏ}}}{\\gamma_{1_{↑}}}\\\\0 & 0 & 0 & 0\\\\0 & \\frac{0.5 \\gamma_{1_{↓}} e^{- \\frac{i J t}{ℏ}} \\overline{Ω}}{\\gamma_{1_{↑}}} & 0 & 0\\end{matrix}\\right]$"
      ],
      "text/plain": [
       "<IPython.core.display.Math object>"
      ]
     },
     "metadata": {},
     "output_type": "display_data"
    },
    {
     "data": {
      "text/latex": [
       "$\\displaystyle H_{1,RWA,1↓}(t) = \\left[\\begin{matrix}0 & 0 & \\frac{0.5 \\gamma_{1_{↑}} Ω e^{- \\frac{i J t}{ℏ}}}{\\gamma_{1_{↓}}} & 0\\\\0 & 0 & 0 & 0\\\\\\frac{0.5 \\gamma_{1_{↑}} e^{\\frac{i J t}{ℏ}} \\overline{Ω}}{\\gamma_{1_{↓}}} & 0 & 0 & 0\\\\0 & 0 & 0 & 0\\end{matrix}\\right]$"
      ],
      "text/plain": [
       "<IPython.core.display.Math object>"
      ]
     },
     "metadata": {},
     "output_type": "display_data"
    },
    {
     "data": {
      "text/latex": [
       "$\\displaystyle H_{1,RWA,2↑}(t) = \\left[\\begin{matrix}0 & 0 & 0 & 0\\\\0 & 0 & 0 & 0\\\\0 & 0 & 0 & \\frac{0.5 \\gamma_{2_{↓}} Ω e^{\\frac{i J t}{ℏ}}}{\\gamma_{2_{↑}}}\\\\0 & 0 & \\frac{0.5 \\gamma_{2_{↓}} e^{- \\frac{i J t}{ℏ}} \\overline{Ω}}{\\gamma_{2_{↑}}} & 0\\end{matrix}\\right]$"
      ],
      "text/plain": [
       "<IPython.core.display.Math object>"
      ]
     },
     "metadata": {},
     "output_type": "display_data"
    },
    {
     "data": {
      "text/latex": [
       "$\\displaystyle H_{1,RWA,2↓}(t) = \\left[\\begin{matrix}0 & \\frac{0.5 \\gamma_{2_{↑}} Ω e^{- \\frac{i J t}{ℏ}}}{\\gamma_{2_{↓}}} & 0 & 0\\\\\\frac{0.5 \\gamma_{2_{↑}} e^{\\frac{i J t}{ℏ}} \\overline{Ω}}{\\gamma_{2_{↓}}} & 0 & 0 & 0\\\\0 & 0 & 0 & 0\\\\0 & 0 & 0 & 0\\end{matrix}\\right]$"
      ],
      "text/plain": [
       "<IPython.core.display.Math object>"
      ]
     },
     "metadata": {},
     "output_type": "display_data"
    }
   ],
   "source": [
    "def keep(H,x,y):\n",
    "    return Matrix(np.array([int(x==0),int(x==1),int(x==2),int(x==3)])*np.array(H)*np.array([[int(y==0)],[int(y==1)],[int(y==2)],[int(y==3)]]))\n",
    "def sym_keep(H,x,y):\n",
    "    return keep(H,x,y)+keep(H,y,x)\n",
    "Hr1_up_res_0 = sym_keep(Hr1_up_res,0,2) \n",
    "Hr1_up_res_1 = sym_keep(Hr1_up_res,1,3)\n",
    "Hr1_down_res_0 =   sym_keep(Hr1_down_res,1,3)\n",
    "Hr1_down_res_1 = sym_keep(Hr1_down_res,0,2)\n",
    "Hr2_up_res_0 = sym_keep(Hr2_up_res,0,1) \n",
    "Hr2_up_res_1 =  sym_keep(Hr2_up_res,2,3)\n",
    "Hr2_down_res_0 =  sym_keep(Hr2_down_res,2,3)\n",
    "Hr2_down_res_1 = sym_keep(Hr2_down_res,0,1) \n",
    "\n",
    "display(Math('H_{0,RWA,1↑}(t) = '+latex(Hr1_up_res_0)))\n",
    "display(Math('H_{0,RWA,1↓}(t) = '+latex(Hr1_down_res_0)))\n",
    "display(Math('H_{0,RWA,2↑}(t) = '+latex(Hr2_up_res_0)))\n",
    "display(Math('H_{0,RWA,2↓}(t) = '+latex(Hr2_down_res_0)))\n",
    "\n",
    "display(Math('H_{1,RWA,1↑}(t) = '+latex(Hr1_up_res_1)))\n",
    "display(Math('H_{1,RWA,1↓}(t) = '+latex(Hr1_down_res_1)))\n",
    "display(Math('H_{1,RWA,2↑}(t) = '+latex(Hr2_up_res_1)))\n",
    "display(Math('H_{1,RWA,2↓}(t) = '+latex(Hr2_down_res_1)))"
   ]
  },
  {
   "cell_type": "markdown",
   "metadata": {},
   "source": [
    "=> notice : \n",
    "\n",
    "$$U \\neq \\exp(-\\int \\frac{i H(t) t}{\\hbar} dt)$$\n",
    "\n",
    "$$U\\left(t, t^{\\prime}\\right)=1+\\sum_{n=1}^{\\infty} \\frac{\\left(-\\frac{i}{\\hbar}\\right)^{n}}{n !} \\int_{t^{\\prime}}^{t} d t_{1} \\cdots$$\n",
    "$$\\int_{t^{\\prime}}^{t} d t_{n} \\mathcal{T}\\left[H\\left(t_{1}\\right) \\cdots H\\left(t_{n}\\right)\\right]$$\n",
    "\n",
    "first because $[H_0,H_1]=0$:\n",
    "    $$U=U_0*U_1$$\n",
    "to calculate $U_1$, we transform $H_1$ such that independent with time, with the formula:\n",
    "    $$H^{\\prime} = R(t) H R^{+}(t) - i \\hbar \\frac{dR}{dt} R^{+}$$\n",
    "\n",
    "$$\n",
    "\\Omega' = 0.5 \\Omega  \\frac{\\gamma_{2\\downarrow}}{\\gamma_{2\\uparrow}}\n",
    "$$\n",
    "\\begin{split}\n",
    "H^{\\prime}_{1,RWA,2↑,右下}(t) \\\\&= \n",
    "\\left[\n",
    " \\begin{matrix}\n",
    "   exp(- \\frac{i J t}{2 \\hbar}) & 0 \\\\\n",
    "   0 & exp( \\frac{i J t}{2 \\hbar})\n",
    "  \\end{matrix} \n",
    "\\right]\n",
    "\\left[\n",
    " \\begin{matrix}\n",
    "   0 & \\Omega' exp( \\frac{i J t}{\\hbar}) \\\\\n",
    "   \\Omega' exp(-\\ \\frac{i J t}{\\hbar}) & 0\n",
    "  \\end{matrix} \n",
    "\\right]\n",
    "\\left[\n",
    " \\begin{matrix}\n",
    "   exp( \\frac{i J t}{2 \\hbar}) & 0 \\\\\n",
    "   0 & exp(- \\frac{i J t}{2 \\hbar})\n",
    "  \\end{matrix} \n",
    "\\right] \\\\\n",
    "    &- i\\hbar \n",
    "\\left[\n",
    " \\begin{matrix}\n",
    "   exp(- \\frac{i J t}{2 \\hbar}) & 0 \\\\\n",
    "   0 & exp( \\frac{i J t}{2 \\hbar})\n",
    "  \\end{matrix} \n",
    "\\right]\n",
    "\\left[\n",
    " \\begin{matrix}\n",
    "   \\frac{i J}{2 \\hbar} & 0 \\\\\n",
    "   0 & \\frac{-i J}{2 \\hbar}\n",
    "  \\end{matrix} \n",
    "\\right]\n",
    "\\left[\n",
    " \\begin{matrix}\n",
    "   exp( \\frac{i J t}{2 \\hbar}) & 0 \\\\\n",
    "   0 & exp(- \\frac{i J t}{2 \\hbar})\n",
    "  \\end{matrix} \n",
    "\\right] \\\\\n",
    "&= R \\left[\n",
    " \\begin{matrix}\n",
    "    \\frac{J }{2} & \\Omega' \\\\\n",
    "   \\Omega'  & \\frac{-J }{2}\n",
    "  \\end{matrix} \n",
    "\\right] R^{+}\n",
    "\\end{split}\n",
    "\\begin{split}\n",
    "U^{\\prime}_{1,RWA,2↑,右下}(t) \\\\\n",
    "&=R e^{\\frac{i((J/2)\\cdot\\sigma_z +(\\Omega')\\cdot\\sigma_x)t}{\\hbar}}R^{+}\n",
    "\\\\ &=R R^{+}_Y(\\theta) e^{\\frac{i\\sqrt{ J^2/4+\\Omega'^2}\\ \\sigma_x t}{\\hbar}} R^{}_Y(\\theta)R^{+}\n",
    "\\ (\\theta = tan^{-1}(J/\\Omega'))\n",
    "\\\\ &= I \n",
    "\\\\ &\\ \\ \\ (when\\ t =2nh/\\sqrt{J^2/4+\\Omega'^2})\n",
    "\\end{split}\n",
    "moreover we require\n",
    "$$t = \\frac{h}{4\\Omega}$$ \n",
    "for $\\pi/2$ rotation on $U_{0,RWA,2↑,右下}$\n",
    "$$t = \\frac{h}{4\\Omega} = \\frac{2nh}{\\sqrt{J^2/4+\\Omega'^2}}$$\n",
    "$$ J = \\sqrt{64n^2- \\frac{\\gamma_{2\\downarrow}^2}{\\gamma_{2\\uparrow}^2}}\\ \\Omega$$\n",
    "let J substitue $\\Omega$ in t\n",
    "$$t = T_{\\pi} = \\frac{h}{4\\Omega} = \\frac{h\\sqrt{64n^2- \\frac{\\gamma_{2\\downarrow}^2}{\\gamma_{2\\uparrow}^2}}}{4J}$$\n"
   ]
  },
  {
   "cell_type": "markdown",
   "metadata": {},
   "source": [
    "#### So, at this $T_\\pi$ (we set $J = \\sqrt{64n^2- \\frac{\\gamma_{2\\downarrow}^2}{\\gamma_{2\\uparrow}^2}}\\ \\Omega$)\n",
    "#### We reduce the crosstalk error $U_{1,2 \\uparrow}$ to $I$\n",
    "#### Similarly, $U_{1,2 \\downarrow}$,$U_{1,1 \\uparrow}$,$U_{1,1 \\downarrow}$ are also $I$"
   ]
  },
  {
   "cell_type": "code",
   "execution_count": 97,
   "metadata": {},
   "outputs": [],
   "source": [
    "def Cos(x):\n",
    "    if x >= pi/2:\n",
    "        return -Cos(x-pi)\n",
    "    elif x<0:\n",
    "        return Cos(-x)\n",
    "    else:\n",
    "        return cos(x)\n",
    "\n",
    "def Sin(x):\n",
    "    if x >= pi/2:\n",
    "        return -Sin(x-pi)\n",
    "    elif x<0:\n",
    "        return -Sin(-x)\n",
    "    else:\n",
    "        return sin(x)\n",
    "        \n",
    "def a_bi_original(z):\n",
    "    if z==0:\n",
    "        return z\n",
    "    else:\n",
    "        return (abs(z))*( cos(im(log(z))) + I*sin(im(log(z))) )\n",
    "\n",
    "def a_bi(z):\n",
    "    z = z.replace(exp,lambda x:a_bi_original(exp(x)))\n",
    "    return (simplify(z)).expand(complex=True)\n",
    "\n",
    "def a_bi_matrix(matrix):\n",
    "    return Matrix( [a_bi(x) for x in matrix] ).reshape(4,4)\n",
    "\n",
    "def U(H):\n",
    "    return simplify( exp(-I*H*t/hbar) )\n",
    "\n",
    "om_real = symbols(\"Ω\",real=True,positive=True)\n",
    "h = hbar*2*pi\n",
    "\n",
    "## change this to class：\n",
    "def Angl(theta):\n",
    "    return cos(theta)+I*sin(theta)\n",
    "\n",
    "# theta = symbols('𝜽',real=True,positive=True)\n",
    "\n",
    "class U_array():\n",
    "    def __init__(self,theta,J_s):\n",
    "        self.theta = theta\n",
    "        self.U0 = Matrix(np.diag([1,1,1,1]))\n",
    "        self.t = (self.theta)/(pi/2) * (1/4/om_real*h)\n",
    "        self.J = J_s\n",
    "\n",
    "class U1_up(U_array):\n",
    "    def __init__(self,theta,J_s):\n",
    "        super().__init__(theta,J_s)\n",
    "        self.U0 = simplify( a_bi_matrix( U(Hr1_up_res_0) \\\n",
    "                .subs(om,om_real).subs(t,self.t) \\\n",
    "                .subs(1.75*pi,-0.25*pi) ) )  \n",
    "    def printU(self):\n",
    "        display(Math('U_{0,RWA,1↑}(t) = '+latex(self.U0)))\n",
    "\n",
    "#     def orig_form(self):\n",
    "#         return simplify( U(Hr1_up_res_0)  \\\n",
    "#                 .subs(om,om_real).subs(t,self.t).subs(g1_up,g1_down) \\\n",
    "#                 .subs(J,self.J).subs(1.75*pi,-0.25*pi) ) \n",
    "    \n",
    "class U1_down(U_array):\n",
    "    def __init__(self,theta,J_s):\n",
    "        super().__init__(theta,J_s)\n",
    "        self.U0 = simplify( a_bi_matrix( U(Hr1_down_res_0)  \\\n",
    "                .subs(om,om_real).subs(t,self.t) \\\n",
    "                .subs(1.75*pi,-0.25*pi) ) )\n",
    "    def printU(self):\n",
    "        display(Math('U_{0,RWA,1↓}(t) = '+latex(self.U0)))\n",
    "#     def orig_form(self):\n",
    "#         return simplify( U(Hr1_down_res_0)  \\\n",
    "#                 .subs(om,om_real).subs(t,self.t).subs(g1_up,g1_down) \\\n",
    "#                 .subs(J,self.J).subs(1.75*pi,-0.25*pi) )\n",
    "\n",
    "class U2_up(U_array):\n",
    "    def __init__(self,theta,J_s):\n",
    "        super().__init__(theta,J_s)\n",
    "        self.U0 = simplify( a_bi_matrix( U(Hr2_up_res_0)   \\\n",
    "                .subs(om,om_real).subs(t,self.t) \\\n",
    "                .subs(1.75*pi,-0.25*pi) ) )\n",
    "\n",
    "    def printU(self):\n",
    "        display(Math('U_{0,RWA,2↑}(t) = '+latex(self.U0)))\n",
    "\n",
    "class U2_down(U_array):\n",
    "    def __init__(self,theta,J_s):\n",
    "        super().__init__(theta,J_s)\n",
    "        self.U0 = simplify( a_bi_matrix( U(Hr2_down_res_0)   \\\n",
    "                .subs(om,om_real).subs(t,self.t) \\\n",
    "                .subs(1.75*pi,-0.25*pi) ) ) \n",
    "\n",
    "    def printU(self):\n",
    "        display(Math('U_{0,RWA,2↓}(t) = '+latex(self.U0)))\n",
    "#     def orig_form(self):\n",
    "#         return simplify( U(Hr2_down_res_0)  \\\n",
    "#                 .subs(om,om_real).subs(t,self.t).subs(g2_up,g2_down) \\\n",
    "#                 .subs(J,self.J).subs(1.75*pi,-0.25*pi)\n"
   ]
  },
  {
   "cell_type": "code",
   "execution_count": 98,
   "metadata": {},
   "outputs": [
    {
     "data": {
      "text/latex": [
       "$\\displaystyle U_{0,RWA,1↑}(t) = \\left[\\begin{matrix}0.5 \\sqrt{2} & 0 & - 0.5 \\sqrt{2} i & 0\\\\0 & 1.0 & 0 & 0\\\\- 0.5 \\sqrt{2} i & 0 & 0.5 \\sqrt{2} & 0\\\\0 & 0 & 0 & 1.0\\end{matrix}\\right]$"
      ],
      "text/plain": [
       "<IPython.core.display.Math object>"
      ]
     },
     "metadata": {},
     "output_type": "display_data"
    },
    {
     "data": {
      "text/latex": [
       "$\\displaystyle U_{0,RWA,1↓}(t) = \\left[\\begin{matrix}1.0 & 0 & 0 & 0\\\\0 & 0.5 \\sqrt{2} & 0 & - 0.5 \\sqrt{2} i\\\\0 & 0 & 1.0 & 0\\\\0 & - 0.5 \\sqrt{2} i & 0 & 0.5 \\sqrt{2}\\end{matrix}\\right]$"
      ],
      "text/plain": [
       "<IPython.core.display.Math object>"
      ]
     },
     "metadata": {},
     "output_type": "display_data"
    },
    {
     "data": {
      "text/latex": [
       "$\\displaystyle U_{0,RWA,2↑}(t) = \\left[\\begin{matrix}0.5 \\sqrt{2} & - 0.5 \\sqrt{2} i & 0 & 0\\\\- 0.5 \\sqrt{2} i & 0.5 \\sqrt{2} & 0 & 0\\\\0 & 0 & 1.0 & 0\\\\0 & 0 & 0 & 1.0\\end{matrix}\\right]$"
      ],
      "text/plain": [
       "<IPython.core.display.Math object>"
      ]
     },
     "metadata": {},
     "output_type": "display_data"
    },
    {
     "data": {
      "text/latex": [
       "$\\displaystyle U_{0,RWA,2↓}(t) = \\left[\\begin{matrix}1.0 & 0 & 0 & 0\\\\0 & 1.0 & 0 & 0\\\\0 & 0 & 0.5 \\sqrt{2} & - 0.5 \\sqrt{2} i\\\\0 & 0 & - 0.5 \\sqrt{2} i & 0.5 \\sqrt{2}\\end{matrix}\\right]$"
      ],
      "text/plain": [
       "<IPython.core.display.Math object>"
      ]
     },
     "metadata": {},
     "output_type": "display_data"
    }
   ],
   "source": [
    "U1_up(pi/2,J).printU()\n",
    "U1_down(pi/2,J).printU()\n",
    "U2_up(pi/2,J).printU()\n",
    "U2_down(pi/2,J).printU()"
   ]
  },
  {
   "cell_type": "code",
   "execution_count": 70,
   "metadata": {},
   "outputs": [
    {
     "data": {
      "text/latex": [
       "$\\displaystyle (x/2)_{2} = \\left[\\begin{matrix}0.5 \\sqrt{2} & - 0.5 \\sqrt{2} i & 0 & 0\\\\- 0.5 \\sqrt{2} i & 0.5 \\sqrt{2} & 0 & 0\\\\0 & 0 & 0.5 \\sqrt{2} & - 0.5 \\sqrt{2} i\\\\0 & 0 & - 0.5 \\sqrt{2} i & 0.5 \\sqrt{2}\\end{matrix}\\right]$"
      ],
      "text/plain": [
       "<IPython.core.display.Math object>"
      ]
     },
     "metadata": {},
     "output_type": "display_data"
    }
   ],
   "source": [
    "x2_half =(simplify(                                                       \\\n",
    "                    simplify( a_bi_matrix(U2_up(pi/2,8*om_real).U0 * U2_down(pi/2,8*om_real).U0) ) \\\n",
    "                    .subs(sqrt(3-2*sqrt(2)),sqrt(2)-1) \\\n",
    "                    .subs(sqrt(-3+2*sqrt(2)),I*(sqrt(2)-1))\n",
    "                  ))\n",
    "display(Math('(x/2)_{2} = '+latex(x2_half)))"
   ]
  },
  {
   "cell_type": "code",
   "execution_count": null,
   "metadata": {},
   "outputs": [],
   "source": []
  },
  {
   "cell_type": "code",
   "execution_count": 71,
   "metadata": {},
   "outputs": [
    {
     "data": {
      "text/latex": [
       "$\\displaystyle ZC1ROT2 = \\left[\\begin{matrix}0 & - 1.0 i & 0 & 0\\\\- 1.0 i & 0 & 0 & 0\\\\0 & 0 & 1.0 & 0\\\\0 & 0 & 0 & 1.0\\end{matrix}\\right]$"
      ],
      "text/plain": [
       "<IPython.core.display.Math object>"
      ]
     },
     "metadata": {},
     "output_type": "display_data"
    }
   ],
   "source": [
    "zc1rot2 =(simplify(                                                       \\\n",
    "                    simplify( a_bi_matrix(U2_up(pi/2,8*om_real).U0 * U2_up(pi/2,8*om_real).U0) ) \\\n",
    "                    .subs(sqrt(3-2*sqrt(2)),sqrt(2)-1) \\\n",
    "                    .subs(sqrt(-3+2*sqrt(2)),I*(sqrt(2)-1))\n",
    "                  ))\n",
    "display(Math('ZC1ROT2 = '+latex(zc1rot2)))"
   ]
  },
  {
   "cell_type": "code",
   "execution_count": 72,
   "metadata": {},
   "outputs": [
    {
     "data": {
      "text/latex": [
       "$\\displaystyle (ideal)= \\left[\\begin{matrix}0 & \\frac{\\sqrt{2}}{2} - \\frac{\\sqrt{2} i}{2} & 0 & 0\\\\\\frac{\\sqrt{2}}{2} - \\frac{\\sqrt{2} i}{2} & 0 & 0 & 0\\\\0 & 0 & \\frac{\\sqrt{2}}{2} + \\frac{\\sqrt{2} i}{2} & 0\\\\0 & 0 & 0 & \\frac{\\sqrt{2}}{2} + \\frac{\\sqrt{2} i}{2}\\end{matrix}\\right]$"
      ],
      "text/plain": [
       "<IPython.core.display.Math object>"
      ]
     },
     "metadata": {},
     "output_type": "display_data"
    }
   ],
   "source": [
    "z_1_half = Matrix(np.diag([a_bi(exp(-I*pi/4)),a_bi(exp(-I*pi/4)),a_bi(exp(I*pi/4)),a_bi(exp(I*pi/4))]))\n",
    "c1not2 = Matrix([[1,0,0,0],[0,1,0,0],[0,0,0,1],[0,0,1,0]])\n",
    "zc1not2 = Matrix([[0,1,0,0],[1,0,0,0],[0,0,1,0],[0,0,0,1]])\n",
    "display(Math('(ideal)= '+latex(z_1_half*zc1not2)))"
   ]
  },
  {
   "cell_type": "code",
   "execution_count": 78,
   "metadata": {},
   "outputs": [
    {
     "data": {
      "text/latex": [
       "$\\displaystyle (x/2)_{2} + C1ROT2 = \\left[\\begin{matrix}0.707106781186548 & - 0.707106781186548 i & 0 & 0\\\\- 0.707106781186548 i & 0.707106781186548 & 0 & 0\\\\0 & 0 & 0.707106781186548 & 0.707106781186548 i\\\\0 & 0 & 0.707106781186548 i & 0.707106781186548\\end{matrix}\\right]$"
      ],
      "text/plain": [
       "<IPython.core.display.Math object>"
      ]
     },
     "metadata": {},
     "output_type": "display_data"
    }
   ],
   "source": [
    "x2_half_c1rot2 =N(simplify(                                                       \\\n",
    "                    simplify( a_bi_matrix(U2_up(pi/2,8*om_real).U0 * U2_down(-pi/2,8*om_real).U0) ) \\\n",
    "                    .subs(sqrt(3-2*sqrt(2)),sqrt(2)-1) \\\n",
    "                    .subs(sqrt(-3+2*sqrt(2)),I*(sqrt(2)-1))\n",
    "                  ))\n",
    "display(Math('(x/2)_{2} + C1ROT2 = '+latex(x2_half_c1rot2)))"
   ]
  },
  {
   "cell_type": "code",
   "execution_count": 79,
   "metadata": {},
   "outputs": [
    {
     "data": {
      "text/latex": [
       "$\\displaystyle (ideal)= \\left[\\begin{matrix}0.5 \\sqrt{2} & - 0.5 \\sqrt{2} i & 0 & 0\\\\- 0.5 \\sqrt{2} i & 0.5 \\sqrt{2} & 0 & 0\\\\0 & 0 & 0.5 \\sqrt{2} & 0.5 \\sqrt{2} i\\\\0 & 0 & 0.5 \\sqrt{2} i & 0.5 \\sqrt{2}\\end{matrix}\\right]$"
      ],
      "text/plain": [
       "<IPython.core.display.Math object>"
      ]
     },
     "metadata": {},
     "output_type": "display_data"
    }
   ],
   "source": [
    "display(Math('(ideal)= '+latex(simplify(z_1_half*c1not2*x2_half*sqrt(2)/(1-I)))))"
   ]
  },
  {
   "cell_type": "code",
   "execution_count": 49,
   "metadata": {},
   "outputs": [
    {
     "data": {
      "text/latex": [
       "$\\displaystyle C1ROT2 = \\left[\\begin{matrix}1.0 & 0 & 0 & 0\\\\0 & 1.0 & 0 & 0\\\\0 & 0 & 0 & 1.0 i\\\\0 & 0 & 1.0 i & 0\\end{matrix}\\right]$"
      ],
      "text/plain": [
       "<IPython.core.display.Math object>"
      ]
     },
     "metadata": {},
     "output_type": "display_data"
    }
   ],
   "source": [
    "c1rot2 =N(simplify(                                                       \\\n",
    "                    simplify( a_bi_matrix(U2_down(-pi/2,8*om_real).U0 * U2_down(-pi/2,8*om_real).U0) ) \\\n",
    "                    .subs(sqrt(3-2*sqrt(2)),sqrt(2)-1) \\\n",
    "                    .subs(sqrt(-3+2*sqrt(2)),I*(sqrt(2)-1))\n",
    "                  ))\n",
    "display(Math('C1ROT2 = '+latex(c1rot2)))"
   ]
  },
  {
   "cell_type": "code",
   "execution_count": 50,
   "metadata": {},
   "outputs": [
    {
     "data": {
      "text/latex": [
       "$\\displaystyle (ideal)= \\left[\\begin{matrix}1 & 0 & 0 & 0\\\\0 & 1 & 0 & 0\\\\0 & 0 & 0 & i\\\\0 & 0 & i & 0\\end{matrix}\\right]$"
      ],
      "text/plain": [
       "<IPython.core.display.Math object>"
      ]
     },
     "metadata": {},
     "output_type": "display_data"
    }
   ],
   "source": [
    "display(Math('(ideal)= '+latex(simplify(z_1_half*c1not2*sqrt(2)/(1-I)))))"
   ]
  },
  {
   "cell_type": "markdown",
   "metadata": {},
   "source": [
    "## ps. -t actually from -Omega"
   ]
  },
  {
   "cell_type": "code",
   "execution_count": null,
   "metadata": {},
   "outputs": [],
   "source": []
  }
 ],
 "metadata": {
  "kernelspec": {
   "display_name": "Python 3",
   "language": "python",
   "name": "python3"
  },
  "language_info": {
   "codemirror_mode": {
    "name": "ipython",
    "version": 3
   },
   "file_extension": ".py",
   "mimetype": "text/x-python",
   "name": "python",
   "nbconvert_exporter": "python",
   "pygments_lexer": "ipython3",
   "version": "3.7.1"
  }
 },
 "nbformat": 4,
 "nbformat_minor": 4
}
